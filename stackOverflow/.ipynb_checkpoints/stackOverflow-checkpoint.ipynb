{
 "cells": [
  {
   "cell_type": "markdown",
   "metadata": {},
   "source": [
    "--------------------------------------\n",
    "\n",
    "### 新题目"
   ]
  },
  {
   "cell_type": "markdown",
   "metadata": {},
   "source": [
    "I have a dictionary with each key holding a list of float values. These lists are not the same size.\n",
    "\n",
    "I'd like to convert this dictionary to a dataframe so that I can perform some analysis functions on the data easily (min, max, average, standard deviation, more).\n",
    "\n",
    "My dictionary looks like this:\n",
    "\n",
    "{\n",
    "    'key1': [10, 100.1, 0.98, 1.2],\n",
    "    'key2', [72.5],\n",
    "    'key3', [1, 5.2, 71.2, 9, 10.11, 12.21, 65, 7]\n",
    "}\n",
    "What is the best way to get this into a dataframe so that I can utilize basic functions like sum, mean, describe, std?\n",
    "\n",
    "The examples I find (like the link above), all assume each of the keys have the same number of values in the list.\n"
   ]
  },
  {
   "cell_type": "markdown",
   "metadata": {},
   "source": [
    "打算使用numpy，构建数组来做。\n",
    "\n",
    "同时存在疑问，提问者准备对属性缺失的样本怎么处理，是在计算与该属性相关的量时直接忽略该样本，还是用缺省值代替。\n",
    "\n",
    "实验："
   ]
  },
  {
   "cell_type": "code",
   "execution_count": 1,
   "metadata": {
    "collapsed": true
   },
   "outputs": [],
   "source": [
    "a = [[1,2,3], [4,5], [6], [7,8]]"
   ]
  },
  {
   "cell_type": "code",
   "execution_count": 2,
   "metadata": {
    "collapsed": true
   },
   "outputs": [],
   "source": [
    "import numpy as np"
   ]
  },
  {
   "cell_type": "code",
   "execution_count": 3,
   "metadata": {
    "collapsed": true
   },
   "outputs": [],
   "source": [
    "b = np.array(a)"
   ]
  },
  {
   "cell_type": "code",
   "execution_count": 12,
   "metadata": {
    "collapsed": false
   },
   "outputs": [
    {
     "ename": "IndexError",
     "evalue": "too many indices for array",
     "output_type": "error",
     "traceback": [
      "\u001b[0;31m---------------------------------------------------------------------------\u001b[0m",
      "\u001b[0;31mIndexError\u001b[0m                                Traceback (most recent call last)",
      "\u001b[0;32m<ipython-input-12-3b647219bd26>\u001b[0m in \u001b[0;36m<module>\u001b[0;34m()\u001b[0m\n\u001b[0;32m----> 1\u001b[0;31m \u001b[0mb\u001b[0m\u001b[0;34m[\u001b[0m\u001b[0;34m:\u001b[0m\u001b[0;34m,\u001b[0m\u001b[0;36m0\u001b[0m\u001b[0;34m]\u001b[0m\u001b[0;34m\u001b[0m\u001b[0m\n\u001b[0m",
      "\u001b[0;31mIndexError\u001b[0m: too many indices for array"
     ]
    }
   ],
   "source": [
    "b[:,0]"
   ]
  },
  {
   "cell_type": "code",
   "execution_count": 14,
   "metadata": {
    "collapsed": true
   },
   "outputs": [],
   "source": [
    "c = [[1,2,3], [4,5,2], [6,2,2], [7,2,8]]\n",
    "d = np.array(c)"
   ]
  },
  {
   "cell_type": "code",
   "execution_count": 15,
   "metadata": {
    "collapsed": false
   },
   "outputs": [
    {
     "data": {
      "text/plain": [
       "array([[1, 2, 3],\n",
       "       [4, 5, 2],\n",
       "       [6, 2, 2],\n",
       "       [7, 2, 8]])"
      ]
     },
     "execution_count": 15,
     "metadata": {},
     "output_type": "execute_result"
    }
   ],
   "source": [
    "d"
   ]
  },
  {
   "cell_type": "markdown",
   "metadata": {},
   "source": [
    "由此，发现，以长短不一的list为元素的list同样可以使用np.array()进行转换，但是，转换之后并不具备ndarray的某些性质"
   ]
  },
  {
   "cell_type": "markdown",
   "metadata": {},
   "source": [
    "参考别人提供的解法："
   ]
  },
  {
   "cell_type": "markdown",
   "metadata": {},
   "source": [
    "#### 解1"
   ]
  },
  {
   "cell_type": "code",
   "execution_count": 16,
   "metadata": {
    "collapsed": true
   },
   "outputs": [],
   "source": [
    "import pandas as pd"
   ]
  },
  {
   "cell_type": "code",
   "execution_count": 18,
   "metadata": {
    "collapsed": false
   },
   "outputs": [
    {
     "data": {
      "text/html": [
       "<div>\n",
       "<table border=\"1\" class=\"dataframe\">\n",
       "  <thead>\n",
       "    <tr style=\"text-align: right;\">\n",
       "      <th></th>\n",
       "      <th>key3</th>\n",
       "      <th>key2</th>\n",
       "      <th>key1</th>\n",
       "    </tr>\n",
       "  </thead>\n",
       "  <tbody>\n",
       "    <tr>\n",
       "      <th>0</th>\n",
       "      <td>1.00</td>\n",
       "      <td>72.5</td>\n",
       "      <td>10.00</td>\n",
       "    </tr>\n",
       "    <tr>\n",
       "      <th>1</th>\n",
       "      <td>5.20</td>\n",
       "      <td>NaN</td>\n",
       "      <td>100.10</td>\n",
       "    </tr>\n",
       "    <tr>\n",
       "      <th>2</th>\n",
       "      <td>71.20</td>\n",
       "      <td>NaN</td>\n",
       "      <td>0.98</td>\n",
       "    </tr>\n",
       "    <tr>\n",
       "      <th>3</th>\n",
       "      <td>9.00</td>\n",
       "      <td>NaN</td>\n",
       "      <td>1.20</td>\n",
       "    </tr>\n",
       "    <tr>\n",
       "      <th>4</th>\n",
       "      <td>10.11</td>\n",
       "      <td>NaN</td>\n",
       "      <td>NaN</td>\n",
       "    </tr>\n",
       "    <tr>\n",
       "      <th>5</th>\n",
       "      <td>12.21</td>\n",
       "      <td>NaN</td>\n",
       "      <td>NaN</td>\n",
       "    </tr>\n",
       "    <tr>\n",
       "      <th>6</th>\n",
       "      <td>65.00</td>\n",
       "      <td>NaN</td>\n",
       "      <td>NaN</td>\n",
       "    </tr>\n",
       "    <tr>\n",
       "      <th>7</th>\n",
       "      <td>7.00</td>\n",
       "      <td>NaN</td>\n",
       "      <td>NaN</td>\n",
       "    </tr>\n",
       "  </tbody>\n",
       "</table>\n",
       "</div>"
      ],
      "text/plain": [
       "    key3  key2    key1\n",
       "0   1.00  72.5   10.00\n",
       "1   5.20   NaN  100.10\n",
       "2  71.20   NaN    0.98\n",
       "3   9.00   NaN    1.20\n",
       "4  10.11   NaN     NaN\n",
       "5  12.21   NaN     NaN\n",
       "6  65.00   NaN     NaN\n",
       "7   7.00   NaN     NaN"
      ]
     },
     "execution_count": 18,
     "metadata": {},
     "output_type": "execute_result"
    }
   ],
   "source": [
    "d={\n",
    "    'key1': [10, 100.1, 0.98, 1.2],\n",
    "    'key2': [72.5],\n",
    "    'key3': [1, 5.2, 71.2, 9, 10.11, 12.21, 65, 7]\n",
    "}\n",
    "\n",
    "df=pd.DataFrame.from_dict(d,orient='index').transpose()\n",
    "df"
   ]
  },
  {
   "cell_type": "markdown",
   "metadata": {},
   "source": [
    "漂亮，接下来，使用numpy进行进一步的计算，因为在numpy中有可以忽略NaN项的函数："
   ]
  },
  {
   "cell_type": "code",
   "execution_count": 20,
   "metadata": {
    "collapsed": false
   },
   "outputs": [
    {
     "data": {
      "text/plain": [
       "28.07"
      ]
     },
     "execution_count": 20,
     "metadata": {},
     "output_type": "execute_result"
    }
   ],
   "source": [
    "import numpy as np\n",
    "np.nanmean(df[['key1']])"
   ]
  },
  {
   "cell_type": "markdown",
   "metadata": {},
   "source": [
    "#### 解2"
   ]
  },
  {
   "cell_type": "markdown",
   "metadata": {},
   "source": [
    "沿用上面解1中的部分变量："
   ]
  },
  {
   "cell_type": "code",
   "execution_count": 23,
   "metadata": {
    "collapsed": false
   },
   "outputs": [
    {
     "data": {
      "text/html": [
       "<div>\n",
       "<table border=\"1\" class=\"dataframe\">\n",
       "  <thead>\n",
       "    <tr style=\"text-align: right;\">\n",
       "      <th></th>\n",
       "      <th>key1</th>\n",
       "      <th>key2</th>\n",
       "      <th>key3</th>\n",
       "    </tr>\n",
       "  </thead>\n",
       "  <tbody>\n",
       "    <tr>\n",
       "      <th>0</th>\n",
       "      <td>10.00</td>\n",
       "      <td>72.5</td>\n",
       "      <td>1.00</td>\n",
       "    </tr>\n",
       "    <tr>\n",
       "      <th>1</th>\n",
       "      <td>100.10</td>\n",
       "      <td>NaN</td>\n",
       "      <td>5.20</td>\n",
       "    </tr>\n",
       "    <tr>\n",
       "      <th>2</th>\n",
       "      <td>0.98</td>\n",
       "      <td>NaN</td>\n",
       "      <td>71.20</td>\n",
       "    </tr>\n",
       "    <tr>\n",
       "      <th>3</th>\n",
       "      <td>1.20</td>\n",
       "      <td>NaN</td>\n",
       "      <td>9.00</td>\n",
       "    </tr>\n",
       "    <tr>\n",
       "      <th>4</th>\n",
       "      <td>NaN</td>\n",
       "      <td>NaN</td>\n",
       "      <td>10.11</td>\n",
       "    </tr>\n",
       "    <tr>\n",
       "      <th>5</th>\n",
       "      <td>NaN</td>\n",
       "      <td>NaN</td>\n",
       "      <td>12.21</td>\n",
       "    </tr>\n",
       "    <tr>\n",
       "      <th>6</th>\n",
       "      <td>NaN</td>\n",
       "      <td>NaN</td>\n",
       "      <td>65.00</td>\n",
       "    </tr>\n",
       "    <tr>\n",
       "      <th>7</th>\n",
       "      <td>NaN</td>\n",
       "      <td>NaN</td>\n",
       "      <td>7.00</td>\n",
       "    </tr>\n",
       "  </tbody>\n",
       "</table>\n",
       "</div>"
      ],
      "text/plain": [
       "     key1  key2   key3\n",
       "0   10.00  72.5   1.00\n",
       "1  100.10   NaN   5.20\n",
       "2    0.98   NaN  71.20\n",
       "3    1.20   NaN   9.00\n",
       "4     NaN   NaN  10.11\n",
       "5     NaN   NaN  12.21\n",
       "6     NaN   NaN  65.00\n",
       "7     NaN   NaN   7.00"
      ]
     },
     "execution_count": 23,
     "metadata": {},
     "output_type": "execute_result"
    }
   ],
   "source": [
    "df = pd.DataFrame({key : pd.Series(vals) for key, vals in d.items()})\n",
    "df"
   ]
  },
  {
   "cell_type": "markdown",
   "metadata": {},
   "source": [
    "其中："
   ]
  },
  {
   "cell_type": "code",
   "execution_count": 24,
   "metadata": {
    "collapsed": false
   },
   "outputs": [
    {
     "data": {
      "text/plain": [
       "{'key1': 0     10.00\n",
       " 1    100.10\n",
       " 2      0.98\n",
       " 3      1.20\n",
       " dtype: float64, 'key2': 0    72.5\n",
       " dtype: float64, 'key3': 0     1.00\n",
       " 1     5.20\n",
       " 2    71.20\n",
       " 3     9.00\n",
       " 4    10.11\n",
       " 5    12.21\n",
       " 6    65.00\n",
       " 7     7.00\n",
       " dtype: float64}"
      ]
     },
     "execution_count": 24,
     "metadata": {},
     "output_type": "execute_result"
    }
   ],
   "source": [
    "{key : pd.Series(vals) for key, vals in d.items()}"
   ]
  },
  {
   "cell_type": "markdown",
   "metadata": {},
   "source": [
    "实验："
   ]
  },
  {
   "cell_type": "code",
   "execution_count": 28,
   "metadata": {
    "collapsed": false
   },
   "outputs": [
    {
     "data": {
      "text/plain": [
       "[('key3', [1, 5.2, 71.2, 9, 10.11, 12.21, 65, 7]),\n",
       " ('key2', [72.5]),\n",
       " ('key1', [10, 100.1, 0.98, 1.2])]"
      ]
     },
     "execution_count": 28,
     "metadata": {},
     "output_type": "execute_result"
    }
   ],
   "source": [
    "d.items()"
   ]
  },
  {
   "cell_type": "code",
   "execution_count": 27,
   "metadata": {
    "collapsed": false
   },
   "outputs": [
    {
     "data": {
      "text/plain": [
       "{'e': 3, 'q': 1, 'w': 2}"
      ]
     },
     "execution_count": 27,
     "metadata": {},
     "output_type": "execute_result"
    }
   ],
   "source": [
    "li = [['q', 1], ['w', 2], ['e', 3]]\n",
    "li2dict = {key: val for key, val in li}\n",
    "li2dict"
   ]
  },
  {
   "cell_type": "markdown",
   "metadata": {},
   "source": [
    "看来对于pandas和numpy还要好好的学一学，以及一些小技巧，以前只知道[item for item in li]之类的用法，原来字典也是可以的"
   ]
  },
  {
   "cell_type": "markdown",
   "metadata": {},
   "source": [
    "----------------------------------------------\n",
    "### 新题目\n",
    "If i have an numpy array\n",
    "```\n",
    "A=[[-4. -4. -4.]                           #(6,3)\n",
    "[-8. -8. -8.]\n",
    "[-1. -1. -1.]\n",
    "[-5. -5. -5.]\n",
    "[ 2.  2.  2.]\n",
    "[-2. -2. -2.]]\n",
    "```\n",
    "I need norm of each row as (2,3) My solution is:\n",
    "\n",
    "np.linalg.norm(A,axis=1)\n",
    "\n",
    "My output is\n",
    "```\n",
    "[6.92820323  13.85640646   1.73205081   8.66025404   3.46410162  3.46410162]\n",
    "```\n",
    "Required output is:\n",
    "```\n",
    "[[  6.92820323  13.85640646]\n",
    "[  1.73205081   8.66025404]\n",
    "[  3.46410162   3.46410162]]\n",
    "```\n",
    "I want to get the required output just in one step without reshaping the resultant numpy array.because i have a large data set and i have to perform this operation repeatedly. Any suggestion ?\n",
    "\n"
   ]
  },
  {
   "cell_type": "code",
   "execution_count": 33,
   "metadata": {
    "collapsed": false
   },
   "outputs": [
    {
     "data": {
      "text/plain": [
       "array([[  6.92820323,  13.85640646],\n",
       "       [  1.73205081,   8.66025404],\n",
       "       [  3.46410162,   3.46410162]])"
      ]
     },
     "execution_count": 33,
     "metadata": {},
     "output_type": "execute_result"
    }
   ],
   "source": [
    "A=[[-4., -4., -4.],   #(6,3)\n",
    "[-8., -8., -8.],\n",
    "[-1., -1., -1.],\n",
    "[-5., -5., -5.],\n",
    "[ 2.,  2.,  2.],\n",
    "[-2., -2., -2.]]\n",
    "A = np.array(A)\n",
    "ans = np.linalg.norm(A,axis=1)\n",
    "ans = ans.reshape((3,2))\n",
    "ans"
   ]
  },
  {
   "cell_type": "markdown",
   "metadata": {},
   "source": [
    "---------------------------\n",
    "### 关于类的变量和对象的变量"
   ]
  },
  {
   "cell_type": "code",
   "execution_count": 66,
   "metadata": {
    "collapsed": false
   },
   "outputs": [],
   "source": [
    "class test():\n",
    "    angle = 0\n",
    "    def __init__(self):\n",
    "        self.angle1 = self.angle  # when __init__() run,it can't find a angle of your object,\n",
    "                                  # so it will go to find the global angle in your class\n",
    "        \n",
    "    def show(self):\n",
    "        print self.angle1\n",
    "    \n",
    "    def change(self):\n",
    "        self.angle = 1   # this self.angle is a val for object\n",
    "        print self.angle\n",
    "        \n",
    "    def change_class(self):\n",
    "        test.angle = 1   # if you want to change the angle of your class,this can be worked"
   ]
  },
  {
   "cell_type": "code",
   "execution_count": 67,
   "metadata": {
    "collapsed": false
   },
   "outputs": [
    {
     "name": "stdout",
     "output_type": "stream",
     "text": [
      "0\n",
      "1\n",
      "0\n",
      "1\n"
     ]
    }
   ],
   "source": [
    "q = test()\n",
    "q.show()\n",
    "q.change()\n",
    "p = test()\n",
    "p.show()\n",
    "q.change_class()\n",
    "p = test()\n",
    "p.show()"
   ]
  },
  {
   "cell_type": "markdown",
   "metadata": {},
   "source": [
    "-------------------------------\n",
    "### 问题：\n",
    "一个文件中有两行字符串，第一行是keys，第二行是每个key对应的value，现需要读出来，组织成dict\n",
    "\n",
    "这个问题使用zip()可以将key和value对应，然后使用一个生成器"
   ]
  },
  {
   "cell_type": "code",
   "execution_count": 69,
   "metadata": {
    "collapsed": false
   },
   "outputs": [
    {
     "name": "stdout",
     "output_type": "stream",
     "text": [
      "{'q': '1', '\\n': '\\n', 'r': '4', 'e': '3', 'w': '2'}\n"
     ]
    }
   ],
   "source": [
    "fp = open('test.txt')\n",
    "s1 = fp.readline()\n",
    "s2 = fp.readline()\n",
    "s = zip(s1, s2)\n",
    "ans = {key : val for key,val in s}\n",
    "print ans"
   ]
  },
  {
   "cell_type": "markdown",
   "metadata": {},
   "source": [
    "但是此处把换行符也包含进来了，用strip()处理读出的行信息，将其去掉"
   ]
  },
  {
   "cell_type": "code",
   "execution_count": 70,
   "metadata": {
    "collapsed": false
   },
   "outputs": [
    {
     "name": "stdout",
     "output_type": "stream",
     "text": [
      "{'q': '1', 'r': '4', 'e': '3', 'w': '2'}\n"
     ]
    }
   ],
   "source": [
    "fp = open('test.txt')\n",
    "s1 = fp.readline().strip()\n",
    "s2 = fp.readline().strip()\n",
    "s = zip(s1, s2)\n",
    "ans = {key : val for key,val in s}\n",
    "print ans"
   ]
  },
  {
   "cell_type": "markdown",
   "metadata": {},
   "source": [
    "-------------------------------\n",
    "### sklearn 的学习\n",
    "有人在提问，是关于是关于sklearn上的内容，顺便看了下，试了试"
   ]
  },
  {
   "cell_type": "code",
   "execution_count": 64,
   "metadata": {
    "collapsed": false
   },
   "outputs": [
    {
     "data": {
      "text/plain": [
       "True"
      ]
     },
     "execution_count": 64,
     "metadata": {},
     "output_type": "execute_result"
    }
   ],
   "source": [
    "import pydotplus \n",
    "from sklearn.datasets import load_iris\n",
    "from sklearn import tree\n",
    "iris = load_iris()\n",
    "clf = tree.DecisionTreeClassifier()\n",
    "clf = clf.fit(iris.data, iris.target)\n",
    "with open(\"iris.dot\", 'w') as f:\n",
    "    f = tree.export_graphviz(clf, out_file=f)\n",
    "\n",
    "dot_data = tree.export_graphviz(clf, out_file=None) \n",
    "graph = pydotplus.graph_from_dot_data(dot_data) \n",
    "graph.write_pdf(\"iris.pdf\") "
   ]
  }
 ],
 "metadata": {
  "kernelspec": {
   "display_name": "Python 2",
   "language": "python",
   "name": "python2"
  },
  "language_info": {
   "codemirror_mode": {
    "name": "ipython",
    "version": 2
   },
   "file_extension": ".py",
   "mimetype": "text/x-python",
   "name": "python",
   "nbconvert_exporter": "python",
   "pygments_lexer": "ipython2",
   "version": "2.7.6"
  }
 },
 "nbformat": 4,
 "nbformat_minor": 1
}
