{
 "cells": [
  {
   "cell_type": "markdown",
   "metadata": {},
   "source": [
    "## 题目：\n",
    "用元素为含三位数的数字的列表表示树，每个数表示树中的一个节点，数的百位数字表示节点在树中的层数，十位数字表示节点在一层中的位置，个位数字表示节点的值。对于给定的列表，当给出一个二位数，其十位和各位分别表示节点层数和位置，以该节点为根节点的子树的一个叶节点到该节点为一条路径，路径的值为该路径所经过的所有节点的值的和，求以该节点为根节点的子树中所有路径的值的和。（注意树最多只有4层，节点值为1-9的数）\n",
    "\n",
    "### 例如：\n",
    "[103,201,212], 求输入节点10时,结果为：9"
   ]
  },
  {
   "cell_type": "markdown",
   "metadata": {},
   "source": [
    "### 解：\n",
    "用递归的思路"
   ]
  },
  {
   "cell_type": "code",
   "execution_count": 60,
   "metadata": {
    "collapsed": false
   },
   "outputs": [],
   "source": [
    "class mytree:\n",
    "    def __init__(self, li):\n",
    "        self.T = {}\n",
    "        for item in li:\n",
    "            self.T[item/10] = item % 10\n",
    "\n",
    "    def getit(self, s, p=0):\n",
    "        ans = 0\n",
    "        p += self.T[s]\n",
    "        c1 = s + 10 + s%10\n",
    "        c2 = c1 + 1\n",
    "        if c1 in self.T:\n",
    "            ans += self.getit(c1, p)\n",
    "        if c2 in self.T:\n",
    "            ans += self.getit(c2, p)\n",
    "        if (c1 not in self.T) and (c2 not in self.T):\n",
    "            ans = p\n",
    "        \n",
    "        print s,'is',ans\n",
    "        return ans\n",
    "    "
   ]
  },
  {
   "cell_type": "markdown",
   "metadata": {},
   "source": [
    "用例列表li"
   ]
  },
  {
   "cell_type": "code",
   "execution_count": 61,
   "metadata": {
    "collapsed": true
   },
   "outputs": [],
   "source": [
    "li = [102,201,211,301,314,325,332,409,413,424,435,467,476]"
   ]
  },
  {
   "cell_type": "code",
   "execution_count": 62,
   "metadata": {
    "collapsed": true
   },
   "outputs": [],
   "source": [
    "test = mytree(li)"
   ]
  },
  {
   "cell_type": "markdown",
   "metadata": {},
   "source": [
    "用例位置 21"
   ]
  },
  {
   "cell_type": "code",
   "execution_count": 63,
   "metadata": {
    "collapsed": false
   },
   "outputs": [
    {
     "name": "stdout",
     "output_type": "stream",
     "text": [
      "32 is 6\n",
      "46 is 10\n",
      "47 is 9\n",
      "33 is 19\n",
      "21 is 25\n"
     ]
    },
    {
     "data": {
      "text/plain": [
       "25"
      ]
     },
     "execution_count": 63,
     "metadata": {},
     "output_type": "execute_result"
    }
   ],
   "source": [
    "test.getit(21)"
   ]
  }
 ],
 "metadata": {
  "kernelspec": {
   "display_name": "Python 2",
   "language": "python",
   "name": "python2"
  },
  "language_info": {
   "codemirror_mode": {
    "name": "ipython",
    "version": 2
   },
   "file_extension": ".py",
   "mimetype": "text/x-python",
   "name": "python",
   "nbconvert_exporter": "python",
   "pygments_lexer": "ipython2",
   "version": "2.7.6"
  }
 },
 "nbformat": 4,
 "nbformat_minor": 1
}
